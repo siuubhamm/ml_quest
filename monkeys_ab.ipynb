{
 "cells": [
  {
   "cell_type": "code",
   "execution_count": 7,
   "metadata": {},
   "outputs": [],
   "source": [
    "import os\n",
    "import numpy as np\n",
    "import pandas as pd\n",
    "import matplotlib.pyplot as plt\n",
    "from scipy.io import loadmat\n",
    "import warnings\n",
    "warnings.filterwarnings('ignore')"
   ]
  },
  {
   "cell_type": "code",
   "execution_count": 5,
   "metadata": {},
   "outputs": [],
   "source": [
    "data_path = \"../Monkeys A B/\""
   ]
  },
  {
   "cell_type": "code",
   "execution_count": 6,
   "metadata": {},
   "outputs": [
    {
     "data": {
      "text/plain": [
       "['monkeyB_nicknamed_Pop', 'monkeyA_nicknamed_Puddle']"
      ]
     },
     "execution_count": 6,
     "metadata": {},
     "output_type": "execute_result"
    }
   ],
   "source": [
    "os.listdir(data_path)"
   ]
  },
  {
   "cell_type": "code",
   "execution_count": 8,
   "metadata": {},
   "outputs": [],
   "source": [
    "file_path = os.path.join(data_path, 'monkeyA_nicknamed_Puddle/Dorsal PFC/Puddle_lPFC_5ch_dorsal/Pud20141217a_ch60_1.mat')\n",
    "data = loadmat(file_path)"
   ]
  },
  {
   "cell_type": "code",
   "execution_count": 10,
   "metadata": {},
   "outputs": [
    {
     "data": {
      "text/plain": [
       "{'__header__': b'MATLAB 5.0 MAT-file, Platform: PCWIN64, Created on: Sun Jul  2 22:18:38 2023',\n",
       " '__version__': '1.0',\n",
       " '__globals__': [],\n",
       " 'TrialID': array([[array(['Task_Mode'], dtype='<U9'),\n",
       "         array(['Target_Location'], dtype='<U15'),\n",
       "         array(['Target_Number'], dtype='<U13'), ...,\n",
       "         array(['Spatial_Orientation'], dtype='<U19'),\n",
       "         array(['FP_Pos_Idx'], dtype='<U10'),\n",
       "         array(['Arr_Pos_Idx'], dtype='<U11')],\n",
       "        [array([[1.]], dtype=float32), array([[2, 4]], dtype=uint8),\n",
       "         array([[2]], dtype=uint8), ..., array([[0]], dtype=int8),\n",
       "         array([[1]], dtype=uint8), array([[1]], dtype=uint8)],\n",
       "        [array([[1.]], dtype=float32), array([[2, 4]], dtype=uint8),\n",
       "         array([[2]], dtype=uint8), ..., array([[0]], dtype=int8),\n",
       "         array([[1]], dtype=uint8), array([[1]], dtype=uint8)],\n",
       "        ...,\n",
       "        [array([[2.]], dtype=float32), array([[2]], dtype=uint8),\n",
       "         array([[1]], dtype=uint8), ..., array([[1]], dtype=int8),\n",
       "         array([[1]], dtype=uint8), array([[1]], dtype=uint8)],\n",
       "        [array([[2.]], dtype=float32), array([[2]], dtype=uint8),\n",
       "         array([[1]], dtype=uint8), ..., array([[1]], dtype=int8),\n",
       "         array([[1]], dtype=uint8), array([[1]], dtype=uint8)],\n",
       "        [array([[2.]], dtype=float32), array([[2]], dtype=uint8),\n",
       "         array([[1]], dtype=uint8), ..., array([[1]], dtype=int8),\n",
       "         array([[1]], dtype=uint8), array([[1]], dtype=uint8)]],\n",
       "       dtype=object),\n",
       " 'fname': array(['Pud20141217a_ch60_1'], dtype='<U19'),\n",
       " 't_spike': array([[array([[0, 0, 0, ..., 0, 0, 0]], dtype=uint8),\n",
       "         array([[0, 0, 0, ..., 0, 0, 0]], dtype=uint8),\n",
       "         array([[0, 0, 0, ..., 0, 0, 0]], dtype=uint8), ...,\n",
       "         array([[0, 0, 0, ..., 0, 0, 0]], dtype=uint8),\n",
       "         array([[0, 0, 0, ..., 0, 0, 0]], dtype=uint8),\n",
       "         array([[0, 0, 0, ..., 0, 0, 0]], dtype=uint8)]], dtype=object),\n",
       " 't_trig': array([[array(['T_WaitStart'], dtype='<U11'),\n",
       "         array(['T_GoSignal'], dtype='<U10'),\n",
       "         array(['T_LeverRelease'], dtype='<U14'), ...,\n",
       "         array(['T_ObjArrayOn'], dtype='<U12'),\n",
       "         array(['T_LeverPress'], dtype='<U12'),\n",
       "         array(['T_TouchOff'], dtype='<U10')],\n",
       "        [array([[2596]], dtype=uint32), array([[4037]], dtype=uint32),\n",
       "         array([[4256]], dtype=uint32), ...,\n",
       "         array([[2597]], dtype=uint32), array([[2565]], dtype=uint32),\n",
       "         array([[nan]])],\n",
       "        [array([[1936]], dtype=uint32), array([[3579]], dtype=uint32),\n",
       "         array([[3799]], dtype=uint32), ...,\n",
       "         array([[1937]], dtype=uint32), array([[1906]], dtype=uint32),\n",
       "         array([[nan]])],\n",
       "        ...,\n",
       "        [array([[1918]], dtype=uint32), array([[4061]], dtype=uint32),\n",
       "         array([[4306]], dtype=uint32), ...,\n",
       "         array([[2664]], dtype=uint32), array([[1901]], dtype=uint32),\n",
       "         array([[nan]])],\n",
       "        [array([[1886]], dtype=uint32), array([[3965]], dtype=uint32),\n",
       "         array([[4231]], dtype=uint32), ...,\n",
       "         array([[2802]], dtype=uint32), array([[1842]], dtype=uint32),\n",
       "         array([[nan]])],\n",
       "        [array([[2449]], dtype=uint32), array([[4307]], dtype=uint32),\n",
       "         array([[4563]], dtype=uint32), ...,\n",
       "         array([[3268]], dtype=uint32), array([[2438]], dtype=uint32),\n",
       "         array([[nan]])]], dtype=object)}"
      ]
     },
     "execution_count": 10,
     "metadata": {},
     "output_type": "execute_result"
    }
   ],
   "source": [
    "data"
   ]
  },
  {
   "cell_type": "code",
   "execution_count": 13,
   "metadata": {},
   "outputs": [
    {
     "name": "stdout",
     "output_type": "stream",
     "text": [
      "Files created:\n",
      " - TrialID.csv\n",
      " - t_trig.csv\n",
      " - t_spike.csv\n"
     ]
    }
   ],
   "source": [
    "trial_header = [\n",
    "    str(item[0]) if isinstance(item, np.ndarray) and len(item) > 0 else \"Unknown\"\n",
    "    for item in data['TrialID'][0]\n",
    "]\n",
    "trial_data = []\n",
    "for row in data['TrialID'][1:]:\n",
    "    processed_row = []\n",
    "    for item in row:\n",
    "        if isinstance(item, np.ndarray) and item.size > 0:\n",
    "            # Handle nested arrays\n",
    "            if isinstance(item[0], np.ndarray) and len(item[0]) > 0:\n",
    "                processed_row.append(item[0][0])  # Access inner value\n",
    "            else:\n",
    "                processed_row.append(item[0])  # Access first element\n",
    "        else:\n",
    "            processed_row.append(None)  # Use None for empty or unexpected data\n",
    "    trial_data.append(processed_row)\n",
    "    \n",
    "trial_df = pd.DataFrame(trial_data, columns=trial_header)\n",
    "\n",
    "# Processing `fname`\n",
    "fname = data['fname'][0]\n",
    "\n",
    "# Processing `t_trig`\n",
    "t_trig_header = [str(item[0]) for item in data['t_trig'][0]]\n",
    "t_trig_data = [\n",
    "    [item[0][0] if isinstance(item, np.ndarray) else item for item in row]\n",
    "    for row in data['t_trig'][1:]\n",
    "]\n",
    "t_trig_df = pd.DataFrame(t_trig_data, columns=t_trig_header)\n",
    "\n",
    "# Processing `t_spike` (if needed, flatten further depending on the requirement)\n",
    "t_spike_data = [item[0].tolist() for item in data['t_spike']]\n",
    "t_spike_df = pd.DataFrame(t_spike_data)\n",
    "\n",
    "# Saving to CSV\n",
    "trial_df.to_csv('TrialID.csv', index=False)\n",
    "t_trig_df.to_csv('t_trig.csv', index=False)\n",
    "t_spike_df.to_csv('t_spike.csv', index=False)\n",
    "\n",
    "# Output filenames for reference\n",
    "print(\"Files created:\")\n",
    "print(\" - TrialID.csv\")\n",
    "print(\" - t_trig.csv\")\n",
    "print(\" - t_spike.csv\")\n"
   ]
  },
  {
   "cell_type": "code",
   "execution_count": 14,
   "metadata": {},
   "outputs": [
    {
     "name": "stdout",
     "output_type": "stream",
     "text": [
      "(1667, 16)\n"
     ]
    }
   ],
   "source": [
    "print(trial_df.shape)"
   ]
  },
  {
   "cell_type": "code",
   "execution_count": 15,
   "metadata": {},
   "outputs": [
    {
     "name": "stdout",
     "output_type": "stream",
     "text": [
      "(1667, 9)\n"
     ]
    }
   ],
   "source": [
    "print(t_trig_df.shape)"
   ]
  },
  {
   "cell_type": "code",
   "execution_count": 18,
   "metadata": {},
   "outputs": [
    {
     "data": {
      "text/plain": [
       "6743"
      ]
     },
     "execution_count": 18,
     "metadata": {},
     "output_type": "execute_result"
    }
   ],
   "source": [
    "len(t_spike_df[0][0])"
   ]
  },
  {
   "cell_type": "code",
   "execution_count": null,
   "metadata": {},
   "outputs": [],
   "source": []
  }
 ],
 "metadata": {
  "kernelspec": {
   "display_name": "Python 3",
   "language": "python",
   "name": "python3"
  },
  "language_info": {
   "codemirror_mode": {
    "name": "ipython",
    "version": 3
   },
   "file_extension": ".py",
   "mimetype": "text/x-python",
   "name": "python",
   "nbconvert_exporter": "python",
   "pygments_lexer": "ipython3",
   "version": "3.10.12"
  }
 },
 "nbformat": 4,
 "nbformat_minor": 2
}
